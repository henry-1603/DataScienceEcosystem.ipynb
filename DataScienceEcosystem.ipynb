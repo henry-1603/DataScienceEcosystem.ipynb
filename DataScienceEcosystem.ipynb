{
 "cells": [
  {
   "cell_type": "markdown",
   "id": "7e11ad59",
   "metadata": {},
   "source": [
    "# Data Science Tools and Ecosystem"
   ]
  },
  {
   "cell_type": "markdown",
   "id": "faafe85a",
   "metadata": {},
   "source": [
    "# In this notebook, Data Science Tools and Ecosystem are summarized."
   ]
  },
  {
   "cell_type": "markdown",
   "id": "0a6a0ef5",
   "metadata": {},
   "source": [
    "# Objectives:\n",
    "###### • Some of the popular languages that Data Scientists use are.\n",
    "###### • Some of the commonly used libraries used by Data Scientists include.\n",
    "###### • Data Science Tools"
   ]
  },
  {
   "cell_type": "markdown",
   "id": "7b5c1ed1",
   "metadata": {},
   "source": [
    "# Some of the popular languages that Data Scientists use are:\n",
    "## 1. Python\n",
    "## 2. R Language\n",
    "## 3. Apache Spark"
   ]
  },
  {
   "cell_type": "markdown",
   "id": "efbaddf8",
   "metadata": {},
   "source": [
    "# Some of the commonly used libraries used by Data Scientists include:\n",
    "## 1. Numpy \n",
    "## 2. Pandas\n",
    "## 3. SeaTorch"
   ]
  },
  {
   "cell_type": "markdown",
   "id": "0c9fcabf",
   "metadata": {},
   "source": [
    "## Data Science Tools\n",
    "##### Rstudio\n",
    "##### TensorFlow\n",
    "##### Apache Hadoop"
   ]
  },
  {
   "cell_type": "markdown",
   "id": "ccf1d6a5",
   "metadata": {},
   "source": [
    "### Below are a few examples of evaluating arithmetic expressions in Python"
   ]
  },
  {
   "cell_type": "code",
   "execution_count": 1,
   "id": "c5e982c7",
   "metadata": {},
   "outputs": [
    {
     "data": {
      "text/plain": [
       "17"
      ]
     },
     "execution_count": 1,
     "metadata": {},
     "output_type": "execute_result"
    }
   ],
   "source": [
    "#This a simple arithmetic expression to mutiply then add integers\n",
    "(3*4)+5"
   ]
  },
  {
   "cell_type": "code",
   "execution_count": 2,
   "id": "909930ab",
   "metadata": {},
   "outputs": [
    {
     "name": "stdout",
     "output_type": "stream",
     "text": [
      "3.3333333333333335\n"
     ]
    }
   ],
   "source": [
    "#This will convert 200 minutes to hours by diving by 60\n",
    "print(200/60)"
   ]
  },
  {
   "cell_type": "markdown",
   "id": "cfc19664",
   "metadata": {},
   "source": [
    "# Author\n",
    "Henil Suhagiya"
   ]
  },
  {
   "cell_type": "code",
   "execution_count": null,
   "id": "45dafb83",
   "metadata": {},
   "outputs": [],
   "source": []
  }
 ],
 "metadata": {
  "kernelspec": {
   "display_name": "Python 3 (ipykernel)",
   "language": "python",
   "name": "python3"
  },
  "language_info": {
   "codemirror_mode": {
    "name": "ipython",
    "version": 3
   },
   "file_extension": ".py",
   "mimetype": "text/x-python",
   "name": "python",
   "nbconvert_exporter": "python",
   "pygments_lexer": "ipython3",
   "version": "3.11.2"
  }
 },
 "nbformat": 4,
 "nbformat_minor": 5
}
